{
 "cells": [
  {
   "cell_type": "markdown",
   "metadata": {},
   "source": [
    "#### 1. Import pandas library"
   ]
  },
  {
   "cell_type": "code",
   "execution_count": 81,
   "metadata": {},
   "outputs": [],
   "source": [
    "import pandas as pd"
   ]
  },
  {
   "cell_type": "markdown",
   "metadata": {},
   "source": [
    "#### 2. Import mysql.connector\n"
   ]
  },
  {
   "cell_type": "code",
   "execution_count": 82,
   "metadata": {},
   "outputs": [],
   "source": [
    "import mysql.connector "
   ]
  },
  {
   "cell_type": "markdown",
   "metadata": {},
   "source": [
    "#### 2.2. Run the following line\n"
   ]
  },
  {
   "cell_type": "code",
   "execution_count": 84,
   "metadata": {},
   "outputs": [],
   "source": [
    "cnx = mysql.connector.connect(user='guest', password='relational', host='relational.fit.cvut.cz', database='stats', use_pure=True)"
   ]
  },
  {
   "cell_type": "markdown",
   "metadata": {},
   "source": [
    "### Import users table:"
   ]
  },
  {
   "cell_type": "markdown",
   "metadata": {},
   "source": [
    "#### 3. Initialize cursor (as seen in classes' Jupyter Notebook)"
   ]
  },
  {
   "cell_type": "code",
   "execution_count": 18,
   "metadata": {},
   "outputs": [],
   "source": [
    "cursor = cnx.cursor()"
   ]
  },
  {
   "cell_type": "markdown",
   "metadata": {},
   "source": [
    "#### 4. Initialize query  (as seen in classes' Jupyter Notebook) \n",
    "#### You want the users table from stats database. (Hint: stats.users)"
   ]
  },
  {
   "cell_type": "code",
   "execution_count": 19,
   "metadata": {},
   "outputs": [],
   "source": [
    "query = (\"SELECT * FROM stats.users\")"
   ]
  },
  {
   "cell_type": "markdown",
   "metadata": {},
   "source": [
    "#### 5. Send query to database  (as seen in classes' Jupyter Notebook)"
   ]
  },
  {
   "cell_type": "code",
   "execution_count": 20,
   "metadata": {},
   "outputs": [],
   "source": [
    "cursor.execute(query)"
   ]
  },
  {
   "cell_type": "markdown",
   "metadata": {},
   "source": [
    "#### 6. Create a new dataframe (preferably called users) with the following columns names (as seen in classes' Jupyter Notebook)"
   ]
  },
  {
   "cell_type": "code",
   "execution_count": 22,
   "metadata": {},
   "outputs": [],
   "source": [
    "columns_users = ['userId', 'Reputation', 'CreationDate', 'DisplayName', 'LastAccessDate', 'WebsiteUrl', 'Location', 'AboutMe', 'Views', 'UpVotes', 'DownVotes', 'AccountId', 'Age', 'ProfileImageUrl']\n"
   ]
  },
  {
   "cell_type": "code",
   "execution_count": 23,
   "metadata": {},
   "outputs": [
    {
     "data": {
      "text/html": [
       "<div>\n",
       "<style scoped>\n",
       "    .dataframe tbody tr th:only-of-type {\n",
       "        vertical-align: middle;\n",
       "    }\n",
       "\n",
       "    .dataframe tbody tr th {\n",
       "        vertical-align: top;\n",
       "    }\n",
       "\n",
       "    .dataframe thead th {\n",
       "        text-align: right;\n",
       "    }\n",
       "</style>\n",
       "<table border=\"1\" class=\"dataframe\">\n",
       "  <thead>\n",
       "    <tr style=\"text-align: right;\">\n",
       "      <th></th>\n",
       "      <th>userId</th>\n",
       "      <th>Reputation</th>\n",
       "      <th>CreationDate</th>\n",
       "      <th>DisplayName</th>\n",
       "      <th>LastAccessDate</th>\n",
       "      <th>WebsiteUrl</th>\n",
       "      <th>Location</th>\n",
       "      <th>AboutMe</th>\n",
       "      <th>Views</th>\n",
       "      <th>UpVotes</th>\n",
       "      <th>DownVotes</th>\n",
       "      <th>AccountId</th>\n",
       "      <th>Age</th>\n",
       "      <th>ProfileImageUrl</th>\n",
       "    </tr>\n",
       "  </thead>\n",
       "  <tbody>\n",
       "  </tbody>\n",
       "</table>\n",
       "</div>"
      ],
      "text/plain": [
       "Empty DataFrame\n",
       "Columns: [userId, Reputation, CreationDate, DisplayName, LastAccessDate, WebsiteUrl, Location, AboutMe, Views, UpVotes, DownVotes, AccountId, Age, ProfileImageUrl]\n",
       "Index: []"
      ]
     },
     "execution_count": 23,
     "metadata": {},
     "output_type": "execute_result"
    }
   ],
   "source": [
    "users_df = pd.DataFrame(columns = columns_users)\n",
    "users_df"
   ]
  },
  {
   "cell_type": "markdown",
   "metadata": {},
   "source": [
    "#### 7. Fill the new users dataframe with the data you can get iterating through cursor (as seen in classes' Jupyter Notebook)"
   ]
  },
  {
   "cell_type": "code",
   "execution_count": 24,
   "metadata": {},
   "outputs": [],
   "source": [
    "for i, data in enumerate(cursor):\n",
    "    users_df.loc[i] = data"
   ]
  },
  {
   "cell_type": "markdown",
   "metadata": {},
   "source": [
    "#### 8. Rename Id column to userId"
   ]
  },
  {
   "cell_type": "code",
   "execution_count": 79,
   "metadata": {},
   "outputs": [],
   "source": [
    "users_df = users_df.rename(columns={\"Id\": \"userId\"})"
   ]
  },
  {
   "cell_type": "markdown",
   "metadata": {},
   "source": [
    "### Import posts table:"
   ]
  },
  {
   "cell_type": "markdown",
   "metadata": {},
   "source": [
    "#### 9. Initialize cursor (as seen in classes' Jupyter Notebook)"
   ]
  },
  {
   "cell_type": "code",
   "execution_count": 85,
   "metadata": {},
   "outputs": [],
   "source": [
    "cursor2 = cnx.cursor()"
   ]
  },
  {
   "cell_type": "markdown",
   "metadata": {},
   "source": [
    "#### 10. Initialize query  (as seen in classes' Jupyter Notebook) \n",
    "#### You want the posts table from stats database. (Hint: no hint this time ;) )"
   ]
  },
  {
   "cell_type": "code",
   "execution_count": 86,
   "metadata": {},
   "outputs": [],
   "source": [
    "query2 = (\"SELECT * FROM stats.posts\")"
   ]
  },
  {
   "cell_type": "markdown",
   "metadata": {},
   "source": [
    "#### 11. Send query to database  (as seen in classes' Jupyter Notebook)"
   ]
  },
  {
   "cell_type": "code",
   "execution_count": 87,
   "metadata": {},
   "outputs": [],
   "source": [
    "cursor2.execute(query2)"
   ]
  },
  {
   "cell_type": "markdown",
   "metadata": {},
   "source": [
    "#### 12. Create a new dataframe (preferably called posts) with the following columns names (as seen in classes' Jupyter Notebook)"
   ]
  },
  {
   "cell_type": "code",
   "execution_count": 32,
   "metadata": {},
   "outputs": [],
   "source": [
    "columns_posts = ['Id', 'PostTypeId', 'AcceptedAnswerId', 'CreaionDate', 'Score', 'ViewCount', 'Body', 'OwnerUserId', 'LasActivityDate', 'Title', 'Tags', 'AnswerCount', 'CommentCount', 'FavoriteCount', 'LastEditorUserId', 'LastEditDate', 'CommunityOwnedDate', 'ParentId', 'ClosedDate', 'OwnerDisplayName', 'LastEditorDisplayName']"
   ]
  },
  {
   "cell_type": "code",
   "execution_count": null,
   "metadata": {},
   "outputs": [],
   "source": [
    "posts_df = pd.DataFrame (columns = columns_posts)\n",
    "posts_df"
   ]
  },
  {
   "cell_type": "markdown",
   "metadata": {},
   "source": [
    "#### 12. Fill the new posts dataframe with the data you can get iterating through cursor (as seen in classes' Jupyter Notebook)"
   ]
  },
  {
   "cell_type": "code",
   "execution_count": 88,
   "metadata": {
    "scrolled": true
   },
   "outputs": [
    {
     "data": {
      "text/html": [
       "<div>\n",
       "<style scoped>\n",
       "    .dataframe tbody tr th:only-of-type {\n",
       "        vertical-align: middle;\n",
       "    }\n",
       "\n",
       "    .dataframe tbody tr th {\n",
       "        vertical-align: top;\n",
       "    }\n",
       "\n",
       "    .dataframe thead th {\n",
       "        text-align: right;\n",
       "    }\n",
       "</style>\n",
       "<table border=\"1\" class=\"dataframe\">\n",
       "  <thead>\n",
       "    <tr style=\"text-align: right;\">\n",
       "      <th></th>\n",
       "      <th>Id</th>\n",
       "      <th>PostTypeId</th>\n",
       "      <th>AcceptedAnswerId</th>\n",
       "      <th>CreaionDate</th>\n",
       "      <th>Score</th>\n",
       "      <th>ViewCount</th>\n",
       "      <th>Body</th>\n",
       "      <th>OwnerUserId</th>\n",
       "      <th>LasActivityDate</th>\n",
       "      <th>Title</th>\n",
       "      <th>...</th>\n",
       "      <th>AnswerCount</th>\n",
       "      <th>CommentCount</th>\n",
       "      <th>FavoriteCount</th>\n",
       "      <th>LastEditorUserId</th>\n",
       "      <th>LastEditDate</th>\n",
       "      <th>CommunityOwnedDate</th>\n",
       "      <th>ParentId</th>\n",
       "      <th>ClosedDate</th>\n",
       "      <th>OwnerDisplayName</th>\n",
       "      <th>LastEditorDisplayName</th>\n",
       "    </tr>\n",
       "  </thead>\n",
       "  <tbody>\n",
       "    <tr>\n",
       "      <th>0</th>\n",
       "      <td>1</td>\n",
       "      <td>1</td>\n",
       "      <td>15.0</td>\n",
       "      <td>2010-07-19 19:12:12</td>\n",
       "      <td>23</td>\n",
       "      <td>1278.0</td>\n",
       "      <td>&lt;p&gt;How should I elicit prior distributions fro...</td>\n",
       "      <td>8.0</td>\n",
       "      <td>2010-09-15 21:08:26</td>\n",
       "      <td>Eliciting priors from experts</td>\n",
       "      <td>...</td>\n",
       "      <td>5.0</td>\n",
       "      <td>1</td>\n",
       "      <td>14.0</td>\n",
       "      <td>NaN</td>\n",
       "      <td>NaN</td>\n",
       "      <td>NaN</td>\n",
       "      <td>NaN</td>\n",
       "      <td>NaN</td>\n",
       "      <td>NaN</td>\n",
       "      <td>NaN</td>\n",
       "    </tr>\n",
       "    <tr>\n",
       "      <th>1</th>\n",
       "      <td>2</td>\n",
       "      <td>1</td>\n",
       "      <td>59.0</td>\n",
       "      <td>2010-07-19 19:12:57</td>\n",
       "      <td>22</td>\n",
       "      <td>8198.0</td>\n",
       "      <td>&lt;p&gt;In many different statistical methods there...</td>\n",
       "      <td>24.0</td>\n",
       "      <td>2012-11-12 09:21:54</td>\n",
       "      <td>What is normality?</td>\n",
       "      <td>...</td>\n",
       "      <td>7.0</td>\n",
       "      <td>1</td>\n",
       "      <td>8.0</td>\n",
       "      <td>88.0</td>\n",
       "      <td>2010-08-07 17:56:44</td>\n",
       "      <td>NaN</td>\n",
       "      <td>NaN</td>\n",
       "      <td>NaN</td>\n",
       "      <td>NaN</td>\n",
       "      <td>NaN</td>\n",
       "    </tr>\n",
       "    <tr>\n",
       "      <th>2</th>\n",
       "      <td>3</td>\n",
       "      <td>1</td>\n",
       "      <td>5.0</td>\n",
       "      <td>2010-07-19 19:13:28</td>\n",
       "      <td>54</td>\n",
       "      <td>3613.0</td>\n",
       "      <td>&lt;p&gt;What are some valuable Statistical Analysis...</td>\n",
       "      <td>18.0</td>\n",
       "      <td>2013-05-27 14:48:36</td>\n",
       "      <td>What are some valuable Statistical Analysis op...</td>\n",
       "      <td>...</td>\n",
       "      <td>19.0</td>\n",
       "      <td>4</td>\n",
       "      <td>36.0</td>\n",
       "      <td>183.0</td>\n",
       "      <td>2011-02-12 05:50:03</td>\n",
       "      <td>2010-07-19 19:13:28</td>\n",
       "      <td>NaN</td>\n",
       "      <td>NaN</td>\n",
       "      <td>NaN</td>\n",
       "      <td>NaN</td>\n",
       "    </tr>\n",
       "    <tr>\n",
       "      <th>3</th>\n",
       "      <td>4</td>\n",
       "      <td>1</td>\n",
       "      <td>135.0</td>\n",
       "      <td>2010-07-19 19:13:31</td>\n",
       "      <td>13</td>\n",
       "      <td>5224.0</td>\n",
       "      <td>&lt;p&gt;I have two groups of data.  Each with a dif...</td>\n",
       "      <td>23.0</td>\n",
       "      <td>2010-09-08 03:00:19</td>\n",
       "      <td>Assessing the significance of differences in d...</td>\n",
       "      <td>...</td>\n",
       "      <td>5.0</td>\n",
       "      <td>2</td>\n",
       "      <td>2.0</td>\n",
       "      <td>NaN</td>\n",
       "      <td>NaN</td>\n",
       "      <td>NaN</td>\n",
       "      <td>NaN</td>\n",
       "      <td>NaN</td>\n",
       "      <td>NaN</td>\n",
       "      <td>NaN</td>\n",
       "    </tr>\n",
       "    <tr>\n",
       "      <th>4</th>\n",
       "      <td>5</td>\n",
       "      <td>2</td>\n",
       "      <td>NaN</td>\n",
       "      <td>2010-07-19 19:14:43</td>\n",
       "      <td>81</td>\n",
       "      <td>NaN</td>\n",
       "      <td>&lt;p&gt;The R-project&lt;/p&gt;\\n\\n&lt;p&gt;&lt;a href=\"http://www...</td>\n",
       "      <td>23.0</td>\n",
       "      <td>2010-07-19 19:21:15</td>\n",
       "      <td>NaN</td>\n",
       "      <td>...</td>\n",
       "      <td>NaN</td>\n",
       "      <td>3</td>\n",
       "      <td>NaN</td>\n",
       "      <td>23.0</td>\n",
       "      <td>2010-07-19 19:21:15</td>\n",
       "      <td>2010-07-19 19:14:43</td>\n",
       "      <td>3.0</td>\n",
       "      <td>NaN</td>\n",
       "      <td>NaN</td>\n",
       "      <td>NaN</td>\n",
       "    </tr>\n",
       "  </tbody>\n",
       "</table>\n",
       "<p>5 rows × 21 columns</p>\n",
       "</div>"
      ],
      "text/plain": [
       "   Id  PostTypeId  AcceptedAnswerId          CreaionDate  Score  ViewCount  \\\n",
       "0   1           1              15.0  2010-07-19 19:12:12     23     1278.0   \n",
       "1   2           1              59.0  2010-07-19 19:12:57     22     8198.0   \n",
       "2   3           1               5.0  2010-07-19 19:13:28     54     3613.0   \n",
       "3   4           1             135.0  2010-07-19 19:13:31     13     5224.0   \n",
       "4   5           2               NaN  2010-07-19 19:14:43     81        NaN   \n",
       "\n",
       "                                                Body  OwnerUserId  \\\n",
       "0  <p>How should I elicit prior distributions fro...          8.0   \n",
       "1  <p>In many different statistical methods there...         24.0   \n",
       "2  <p>What are some valuable Statistical Analysis...         18.0   \n",
       "3  <p>I have two groups of data.  Each with a dif...         23.0   \n",
       "4  <p>The R-project</p>\\n\\n<p><a href=\"http://www...         23.0   \n",
       "\n",
       "       LasActivityDate                                              Title  \\\n",
       "0  2010-09-15 21:08:26                      Eliciting priors from experts   \n",
       "1  2012-11-12 09:21:54                                 What is normality?   \n",
       "2  2013-05-27 14:48:36  What are some valuable Statistical Analysis op...   \n",
       "3  2010-09-08 03:00:19  Assessing the significance of differences in d...   \n",
       "4  2010-07-19 19:21:15                                                NaN   \n",
       "\n",
       "   ... AnswerCount  CommentCount  FavoriteCount  LastEditorUserId  \\\n",
       "0  ...         5.0             1           14.0               NaN   \n",
       "1  ...         7.0             1            8.0              88.0   \n",
       "2  ...        19.0             4           36.0             183.0   \n",
       "3  ...         5.0             2            2.0               NaN   \n",
       "4  ...         NaN             3            NaN              23.0   \n",
       "\n",
       "          LastEditDate   CommunityOwnedDate ParentId  ClosedDate  \\\n",
       "0                  NaN                  NaN      NaN         NaN   \n",
       "1  2010-08-07 17:56:44                  NaN      NaN         NaN   \n",
       "2  2011-02-12 05:50:03  2010-07-19 19:13:28      NaN         NaN   \n",
       "3                  NaN                  NaN      NaN         NaN   \n",
       "4  2010-07-19 19:21:15  2010-07-19 19:14:43      3.0         NaN   \n",
       "\n",
       "  OwnerDisplayName LastEditorDisplayName  \n",
       "0              NaN                   NaN  \n",
       "1              NaN                   NaN  \n",
       "2              NaN                   NaN  \n",
       "3              NaN                   NaN  \n",
       "4              NaN                   NaN  \n",
       "\n",
       "[5 rows x 21 columns]"
      ]
     },
     "execution_count": 88,
     "metadata": {},
     "output_type": "execute_result"
    }
   ],
   "source": [
    "#for i, data in enumerate(cursor2):\n",
    " #   posts_df.loc[i] = data\n",
    "posts_df = pd.read_csv('posts_table.csv')\n",
    "posts_df.head()"
   ]
  },
  {
   "cell_type": "markdown",
   "metadata": {},
   "source": [
    "#### 13. Rename Id column to postId and OwnerUserId to userId"
   ]
  },
  {
   "cell_type": "code",
   "execution_count": 89,
   "metadata": {},
   "outputs": [
    {
     "data": {
      "text/html": [
       "<div>\n",
       "<style scoped>\n",
       "    .dataframe tbody tr th:only-of-type {\n",
       "        vertical-align: middle;\n",
       "    }\n",
       "\n",
       "    .dataframe tbody tr th {\n",
       "        vertical-align: top;\n",
       "    }\n",
       "\n",
       "    .dataframe thead th {\n",
       "        text-align: right;\n",
       "    }\n",
       "</style>\n",
       "<table border=\"1\" class=\"dataframe\">\n",
       "  <thead>\n",
       "    <tr style=\"text-align: right;\">\n",
       "      <th></th>\n",
       "      <th>postId</th>\n",
       "      <th>PostTypeId</th>\n",
       "      <th>AcceptedAnswerId</th>\n",
       "      <th>Score</th>\n",
       "      <th>ViewCount</th>\n",
       "      <th>userId</th>\n",
       "      <th>AnswerCount</th>\n",
       "      <th>CommentCount</th>\n",
       "      <th>FavoriteCount</th>\n",
       "      <th>LastEditorUserId</th>\n",
       "      <th>ParentId</th>\n",
       "    </tr>\n",
       "  </thead>\n",
       "  <tbody>\n",
       "    <tr>\n",
       "      <th>count</th>\n",
       "      <td>40000.000000</td>\n",
       "      <td>40000.000000</td>\n",
       "      <td>7266.000000</td>\n",
       "      <td>40000.000000</td>\n",
       "      <td>15895.000000</td>\n",
       "      <td>38962.000000</td>\n",
       "      <td>15895.000000</td>\n",
       "      <td>40000.000000</td>\n",
       "      <td>7293.000000</td>\n",
       "      <td>19725.000000</td>\n",
       "      <td>23569.000000</td>\n",
       "    </tr>\n",
       "    <tr>\n",
       "      <th>mean</th>\n",
       "      <td>22709.318350</td>\n",
       "      <td>1.636175</td>\n",
       "      <td>23186.498211</td>\n",
       "      <td>4.086500</td>\n",
       "      <td>1206.583202</td>\n",
       "      <td>6079.063087</td>\n",
       "      <td>1.594401</td>\n",
       "      <td>2.011525</td>\n",
       "      <td>3.360346</td>\n",
       "      <td>4635.762180</td>\n",
       "      <td>19986.577666</td>\n",
       "    </tr>\n",
       "    <tr>\n",
       "      <th>std</th>\n",
       "      <td>13763.536209</td>\n",
       "      <td>0.594277</td>\n",
       "      <td>14994.186353</td>\n",
       "      <td>6.589488</td>\n",
       "      <td>3872.525910</td>\n",
       "      <td>5224.896435</td>\n",
       "      <td>2.055572</td>\n",
       "      <td>2.673990</td>\n",
       "      <td>7.637988</td>\n",
       "      <td>5751.397127</td>\n",
       "      <td>13752.497021</td>\n",
       "    </tr>\n",
       "    <tr>\n",
       "      <th>min</th>\n",
       "      <td>1.000000</td>\n",
       "      <td>1.000000</td>\n",
       "      <td>5.000000</td>\n",
       "      <td>-19.000000</td>\n",
       "      <td>14.000000</td>\n",
       "      <td>-1.000000</td>\n",
       "      <td>0.000000</td>\n",
       "      <td>0.000000</td>\n",
       "      <td>0.000000</td>\n",
       "      <td>-1.000000</td>\n",
       "      <td>1.000000</td>\n",
       "    </tr>\n",
       "    <tr>\n",
       "      <th>25%</th>\n",
       "      <td>10883.750000</td>\n",
       "      <td>1.000000</td>\n",
       "      <td>10936.500000</td>\n",
       "      <td>1.000000</td>\n",
       "      <td>174.000000</td>\n",
       "      <td>1317.000000</td>\n",
       "      <td>1.000000</td>\n",
       "      <td>0.000000</td>\n",
       "      <td>1.000000</td>\n",
       "      <td>702.000000</td>\n",
       "      <td>7869.000000</td>\n",
       "    </tr>\n",
       "    <tr>\n",
       "      <th>50%</th>\n",
       "      <td>22050.500000</td>\n",
       "      <td>2.000000</td>\n",
       "      <td>21794.500000</td>\n",
       "      <td>2.000000</td>\n",
       "      <td>387.000000</td>\n",
       "      <td>4856.000000</td>\n",
       "      <td>1.000000</td>\n",
       "      <td>1.000000</td>\n",
       "      <td>2.000000</td>\n",
       "      <td>2116.000000</td>\n",
       "      <td>18423.000000</td>\n",
       "    </tr>\n",
       "    <tr>\n",
       "      <th>75%</th>\n",
       "      <td>33536.500000</td>\n",
       "      <td>2.000000</td>\n",
       "      <td>33589.250000</td>\n",
       "      <td>5.000000</td>\n",
       "      <td>978.000000</td>\n",
       "      <td>9651.000000</td>\n",
       "      <td>2.000000</td>\n",
       "      <td>3.000000</td>\n",
       "      <td>3.000000</td>\n",
       "      <td>7290.000000</td>\n",
       "      <td>30723.000000</td>\n",
       "    </tr>\n",
       "    <tr>\n",
       "      <th>max</th>\n",
       "      <td>48325.000000</td>\n",
       "      <td>7.000000</td>\n",
       "      <td>114363.000000</td>\n",
       "      <td>192.000000</td>\n",
       "      <td>175495.000000</td>\n",
       "      <td>55226.000000</td>\n",
       "      <td>136.000000</td>\n",
       "      <td>45.000000</td>\n",
       "      <td>233.000000</td>\n",
       "      <td>53985.000000</td>\n",
       "      <td>48314.000000</td>\n",
       "    </tr>\n",
       "  </tbody>\n",
       "</table>\n",
       "</div>"
      ],
      "text/plain": [
       "             postId    PostTypeId  AcceptedAnswerId         Score  \\\n",
       "count  40000.000000  40000.000000       7266.000000  40000.000000   \n",
       "mean   22709.318350      1.636175      23186.498211      4.086500   \n",
       "std    13763.536209      0.594277      14994.186353      6.589488   \n",
       "min        1.000000      1.000000          5.000000    -19.000000   \n",
       "25%    10883.750000      1.000000      10936.500000      1.000000   \n",
       "50%    22050.500000      2.000000      21794.500000      2.000000   \n",
       "75%    33536.500000      2.000000      33589.250000      5.000000   \n",
       "max    48325.000000      7.000000     114363.000000    192.000000   \n",
       "\n",
       "           ViewCount        userId   AnswerCount  CommentCount  FavoriteCount  \\\n",
       "count   15895.000000  38962.000000  15895.000000  40000.000000    7293.000000   \n",
       "mean     1206.583202   6079.063087      1.594401      2.011525       3.360346   \n",
       "std      3872.525910   5224.896435      2.055572      2.673990       7.637988   \n",
       "min        14.000000     -1.000000      0.000000      0.000000       0.000000   \n",
       "25%       174.000000   1317.000000      1.000000      0.000000       1.000000   \n",
       "50%       387.000000   4856.000000      1.000000      1.000000       2.000000   \n",
       "75%       978.000000   9651.000000      2.000000      3.000000       3.000000   \n",
       "max    175495.000000  55226.000000    136.000000     45.000000     233.000000   \n",
       "\n",
       "       LastEditorUserId      ParentId  \n",
       "count      19725.000000  23569.000000  \n",
       "mean        4635.762180  19986.577666  \n",
       "std         5751.397127  13752.497021  \n",
       "min           -1.000000      1.000000  \n",
       "25%          702.000000   7869.000000  \n",
       "50%         2116.000000  18423.000000  \n",
       "75%         7290.000000  30723.000000  \n",
       "max        53985.000000  48314.000000  "
      ]
     },
     "execution_count": 89,
     "metadata": {},
     "output_type": "execute_result"
    }
   ],
   "source": [
    "posts_df = posts_df.rename(columns={\"Id\": \"postId\", \"OwnerUserId\" : \"userId\"})\n",
    "\n",
    "posts_df.describe()"
   ]
  },
  {
   "cell_type": "markdown",
   "metadata": {},
   "source": [
    "#### 14. Define new dataframes for users and posts with the following selected columns:\n",
    "    **users columns**: userId, Reputation,Views,UpVotes,DownVotes\n",
    "    **posts columns**: postId, Score,userID,ViewCount,CommentCount"
   ]
  },
  {
   "cell_type": "code",
   "execution_count": 112,
   "metadata": {},
   "outputs": [
    {
     "data": {
      "text/plain": [
       "userId        object\n",
       "Reputation    object\n",
       "Views         object\n",
       "UpVotes       object\n",
       "DownVotes     object\n",
       "dtype: object"
      ]
     },
     "execution_count": 112,
     "metadata": {},
     "output_type": "execute_result"
    }
   ],
   "source": [
    "users = users_df [[\"userId\", \"Reputation\",\"Views\",\"UpVotes\",\"DownVotes\"]].copy()\n",
    "posts = posts_df [[\"postId\", \"Score\",\"userId\",\"ViewCount\",\"CommentCount\"]].copy()\n",
    "users.dtypes\n"
   ]
  },
  {
   "cell_type": "markdown",
   "metadata": {},
   "source": [
    "#### 15. Merge both dataframes, users and posts. \n",
    "You will need to make a [merge](https://pandas.pydata.org/pandas-docs/stable/generated/pandas.DataFrame.merge.html) of posts and users dataframes."
   ]
  },
  {
   "cell_type": "code",
   "execution_count": 111,
   "metadata": {},
   "outputs": [
    {
     "data": {
      "text/plain": [
       "postId            int64\n",
       "Score             int64\n",
       "userId           object\n",
       "ViewCount       float64\n",
       "CommentCount      int64\n",
       "Reputation       object\n",
       "Views            object\n",
       "UpVotes          object\n",
       "DownVotes        object\n",
       "dtype: object"
      ]
     },
     "execution_count": 111,
     "metadata": {},
     "output_type": "execute_result"
    }
   ],
   "source": [
    "merged = posts.merge(users, how='inner', on=\"userId\")\n",
    "merged.dtypes"
   ]
  },
  {
   "cell_type": "markdown",
   "metadata": {},
   "source": [
    "#### 16. How many missing values do you have in your merged dataframe? On which columns?"
   ]
  },
  {
   "cell_type": "code",
   "execution_count": 92,
   "metadata": {},
   "outputs": [
    {
     "name": "stdout",
     "output_type": "stream",
     "text": [
      "postId              0\n",
      "Score               0\n",
      "userId              0\n",
      "ViewCount       23572\n",
      "CommentCount        0\n",
      "dtype: int64\n"
     ]
    },
    {
     "data": {
      "text/plain": [
       "['ViewCount']"
      ]
     },
     "execution_count": 92,
     "metadata": {},
     "output_type": "execute_result"
    }
   ],
   "source": [
    "merged_null = merged.isnull().sum()\n",
    "print(merged_null.head())\n",
    "list(merged_null [merged_null > 0].index)"
   ]
  },
  {
   "cell_type": "markdown",
   "metadata": {},
   "source": [
    "#### 17. You will need to make something with missing values.  Will you clean or filling them? Explain. \n",
    "**Remember** to check the results of your code before passing to the next step"
   ]
  },
  {
   "cell_type": "code",
   "execution_count": 106,
   "metadata": {},
   "outputs": [
    {
     "data": {
      "text/html": [
       "<div>\n",
       "<style scoped>\n",
       "    .dataframe tbody tr th:only-of-type {\n",
       "        vertical-align: middle;\n",
       "    }\n",
       "\n",
       "    .dataframe tbody tr th {\n",
       "        vertical-align: top;\n",
       "    }\n",
       "\n",
       "    .dataframe thead th {\n",
       "        text-align: right;\n",
       "    }\n",
       "</style>\n",
       "<table border=\"1\" class=\"dataframe\">\n",
       "  <thead>\n",
       "    <tr style=\"text-align: right;\">\n",
       "      <th></th>\n",
       "      <th>postId</th>\n",
       "      <th>Score</th>\n",
       "      <th>userId</th>\n",
       "      <th>ViewCount</th>\n",
       "      <th>CommentCount</th>\n",
       "      <th>Reputation</th>\n",
       "      <th>Views</th>\n",
       "      <th>UpVotes</th>\n",
       "      <th>DownVotes</th>\n",
       "    </tr>\n",
       "  </thead>\n",
       "  <tbody>\n",
       "    <tr>\n",
       "      <th>0</th>\n",
       "      <td>1</td>\n",
       "      <td>23</td>\n",
       "      <td>8</td>\n",
       "      <td>1278.0</td>\n",
       "      <td>1</td>\n",
       "      <td>6764</td>\n",
       "      <td>1089</td>\n",
       "      <td>604</td>\n",
       "      <td>25</td>\n",
       "    </tr>\n",
       "    <tr>\n",
       "      <th>2</th>\n",
       "      <td>36</td>\n",
       "      <td>41</td>\n",
       "      <td>8</td>\n",
       "      <td>67396.0</td>\n",
       "      <td>7</td>\n",
       "      <td>6764</td>\n",
       "      <td>1089</td>\n",
       "      <td>604</td>\n",
       "      <td>25</td>\n",
       "    </tr>\n",
       "    <tr>\n",
       "      <th>6</th>\n",
       "      <td>114</td>\n",
       "      <td>30</td>\n",
       "      <td>8</td>\n",
       "      <td>1220.0</td>\n",
       "      <td>1</td>\n",
       "      <td>6764</td>\n",
       "      <td>1089</td>\n",
       "      <td>604</td>\n",
       "      <td>25</td>\n",
       "    </tr>\n",
       "    <tr>\n",
       "      <th>9</th>\n",
       "      <td>168</td>\n",
       "      <td>17</td>\n",
       "      <td>8</td>\n",
       "      <td>1022.0</td>\n",
       "      <td>1</td>\n",
       "      <td>6764</td>\n",
       "      <td>1089</td>\n",
       "      <td>604</td>\n",
       "      <td>25</td>\n",
       "    </tr>\n",
       "    <tr>\n",
       "      <th>10</th>\n",
       "      <td>170</td>\n",
       "      <td>56</td>\n",
       "      <td>8</td>\n",
       "      <td>7733.0</td>\n",
       "      <td>1</td>\n",
       "      <td>6764</td>\n",
       "      <td>1089</td>\n",
       "      <td>604</td>\n",
       "      <td>25</td>\n",
       "    </tr>\n",
       "  </tbody>\n",
       "</table>\n",
       "</div>"
      ],
      "text/plain": [
       "    postId  Score userId  ViewCount  CommentCount Reputation Views UpVotes  \\\n",
       "0        1     23      8     1278.0             1       6764  1089     604   \n",
       "2       36     41      8    67396.0             7       6764  1089     604   \n",
       "6      114     30      8     1220.0             1       6764  1089     604   \n",
       "9      168     17      8     1022.0             1       6764  1089     604   \n",
       "10     170     56      8     7733.0             1       6764  1089     604   \n",
       "\n",
       "   DownVotes  \n",
       "0         25  \n",
       "2         25  \n",
       "6         25  \n",
       "9         25  \n",
       "10        25  "
      ]
     },
     "execution_count": 106,
     "metadata": {},
     "output_type": "execute_result"
    }
   ],
   "source": [
    "null_displ = merged[(merged['ViewCount'].isnull()==True)]\n",
    "\n",
    "null_displ = null_displ[['postId', \"userId\" ,\"ViewCount\", \"Views\" ,\"UpVotes\" ,\"DownVotes\"]]\n",
    "null_displ.tail(20)\n",
    "\n",
    "merged_nonull = merged.dropna(axis=0, how='any')\n",
    "merged_nonull.head()\n",
    "\n",
    "# I would drop them due to View counts being a very imprtatn metric for engagement and advertisement and i would want to have a \n",
    "# clean data set. I would not that the anlysis woudl be wrong due to seeing that certain posts had average views when \n",
    "# we could not confirm that was trues due to nulls."
   ]
  },
  {
   "cell_type": "markdown",
   "metadata": {},
   "source": [
    "#### 18. Adjust the data types in order to avoid future issues. Which ones should be changed? "
   ]
  },
  {
   "cell_type": "code",
   "execution_count": 108,
   "metadata": {},
   "outputs": [
    {
     "data": {
      "text/plain": [
       "postId            int64\n",
       "Score             int64\n",
       "userId           object\n",
       "ViewCount       float64\n",
       "CommentCount      int64\n",
       "Reputation       object\n",
       "Views            object\n",
       "UpVotes          object\n",
       "DownVotes        object\n",
       "dtype: object"
      ]
     },
     "execution_count": 108,
     "metadata": {},
     "output_type": "execute_result"
    }
   ],
   "source": [
    "merged_nonull.dtypes"
   ]
  },
  {
   "cell_type": "code",
   "execution_count": 114,
   "metadata": {},
   "outputs": [
    {
     "data": {
      "text/plain": [
       "postId            int64\n",
       "Score           float64\n",
       "userId            int64\n",
       "ViewCount         int64\n",
       "CommentCount      int64\n",
       "Reputation        int64\n",
       "Views             int64\n",
       "UpVotes           int64\n",
       "DownVotes         int64\n",
       "dtype: object"
      ]
     },
     "execution_count": 114,
     "metadata": {},
     "output_type": "execute_result"
    }
   ],
   "source": [
    "new_merged = merged_nonull.astype({\"Score\":\"float64\",'userId': 'int64', 'ViewCount': 'int64', 'Reputation' : 'int64',\"Views\": 'int64', \"UpVotes\": 'int64', \"DownVotes\": 'int64'})\n",
    "new_merged.dtypes"
   ]
  },
  {
   "cell_type": "code",
   "execution_count": null,
   "metadata": {},
   "outputs": [],
   "source": []
  }
 ],
 "metadata": {
  "kernelspec": {
   "display_name": "Python 3",
   "language": "python",
   "name": "python3"
  },
  "language_info": {
   "codemirror_mode": {
    "name": "ipython",
    "version": 3
   },
   "file_extension": ".py",
   "mimetype": "text/x-python",
   "name": "python",
   "nbconvert_exporter": "python",
   "pygments_lexer": "ipython3",
   "version": "3.7.3"
  }
 },
 "nbformat": 4,
 "nbformat_minor": 2
}
